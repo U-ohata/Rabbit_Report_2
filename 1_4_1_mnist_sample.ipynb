{
  "nbformat": 4,
  "nbformat_minor": 0,
  "metadata": {
    "kernelspec": {
      "display_name": "Python 3",
      "language": "python",
      "name": "python3"
    },
    "language_info": {
      "codemirror_mode": {
        "name": "ipython",
        "version": 3
      },
      "file_extension": ".py",
      "mimetype": "text/x-python",
      "name": "python",
      "nbconvert_exporter": "python",
      "pygments_lexer": "ipython3",
      "version": "3.6.3"
    },
    "colab": {
      "name": "1_4_1_mnist_sample.ipynb",
      "provenance": [],
      "collapsed_sections": [],
      "include_colab_link": true
    }
  },
  "cells": [
    {
      "cell_type": "markdown",
      "metadata": {
        "id": "view-in-github",
        "colab_type": "text"
      },
      "source": [
        "<a href=\"https://colab.research.google.com/github/U-ohata/Rabbit_Report_2/blob/Rabbit_Report_Colaboratory/1_4_1_mnist_sample.ipynb\" target=\"_parent\"><img src=\"https://colab.research.google.com/assets/colab-badge.svg\" alt=\"Open In Colab\"/></a>"
      ]
    },
    {
      "cell_type": "markdown",
      "metadata": {
        "id": "8cNl2QA_Rnv5"
      },
      "source": [
        "# 準備"
      ]
    },
    {
      "cell_type": "markdown",
      "metadata": {
        "id": "YkwjN1jNVAYy"
      },
      "source": [
        "## Googleドライブのマウント"
      ]
    },
    {
      "cell_type": "code",
      "metadata": {
        "id": "pvFXpiH3EVC1",
        "colab": {
          "base_uri": "https://localhost:8080/"
        },
        "outputId": "59cfa63c-b81d-41e4-a585-ec40f04c18b7"
      },
      "source": [
        "from google.colab import drive\n",
        "drive.mount('/content/drive')"
      ],
      "execution_count": 1,
      "outputs": [
        {
          "output_type": "stream",
          "name": "stdout",
          "text": [
            "Mounted at /content/drive\n"
          ]
        }
      ]
    },
    {
      "cell_type": "markdown",
      "metadata": {
        "id": "3Ub7RYdeY6pK"
      },
      "source": [
        "## sys.pathの設定"
      ]
    },
    {
      "cell_type": "markdown",
      "metadata": {
        "id": "oql7L19rEsWi"
      },
      "source": [
        "以下では，Googleドライブのマイドライブ直下にDNN_codeフォルダを置くことを仮定しています．必要に応じて，パスを変更してください．"
      ]
    },
    {
      "cell_type": "code",
      "metadata": {
        "id": "7Ic2JzkvFX59"
      },
      "source": [
        "import sys\n",
        "#sys.path.append('/content/drive/My Drive/DNN_code')\n",
        "sys.path.append('/content/drive/My Drive/Pythonライブラリ基礎講座/DNN_code_colab_lesson_1_2')"
      ],
      "execution_count": 2,
      "outputs": []
    },
    {
      "cell_type": "markdown",
      "metadata": {
        "id": "ToUJok-EiuLx"
      },
      "source": [
        "# minst"
      ]
    },
    {
      "cell_type": "code",
      "metadata": {
        "id": "AMva1WVaintz",
        "colab": {
          "base_uri": "https://localhost:8080/",
          "height": 1000
        },
        "outputId": "a415261f-4e1c-45d5-d073-b77c22a5bd57"
      },
      "source": [
        "import numpy as np\n",
        "from data.mnist import load_mnist\n",
        "import pickle\n",
        "from common import functions\n",
        "import matplotlib.pyplot as plt\n",
        "\n",
        "# mnistをロード\n",
        "(x_train, d_train), (x_test, d_test) = load_mnist(normalize=True, one_hot_label=True)\n",
        "train_size = len(x_train)\n",
        "\n",
        "print(\"データ読み込み完了\")\n",
        "\n",
        "# 重み初期値補正係数\n",
        "wieght_init = 0.01 # 変更してみよう\n",
        "#入力層サイズ\n",
        "input_layer_size = 784 # 変更してみよう\n",
        "#中間層サイズ\n",
        "hidden_layer_size = 40 # 変更してみよう\n",
        "#出力層サイズ\n",
        "output_layer_size = 10 # 変更してみよう\n",
        "# 繰り返し数\n",
        "iters_num = 1000 # 変更してみよう\n",
        "# ミニバッチサイズ\n",
        "batch_size = 100 # 変更してみよ\n",
        "# 学習率\n",
        "learning_rate = 0.1 # 変更してみよう\n",
        "# 描写頻度\n",
        "plot_interval=10\n",
        "\n",
        "# 初期設定\n",
        "def init_network():\n",
        "    network = {} \n",
        "    network['W1'] = wieght_init * np.random.randn(input_layer_size, hidden_layer_size)\n",
        "    network['W2'] = wieght_init * np.random.randn(hidden_layer_size, output_layer_size)\n",
        "    # 試してみよう_Xavierの初期値\n",
        "    # network['W1'] = np.random.randn(input_layer_size, hidden_layer_size) / np.sqrt(input_layer_size)\n",
        "    # network['W2'] = np.random.randn(hidden_layer_size, output_layer_size) / np.sqrt(hidden_layer_size)\n",
        "    # 試してみよう Heの初期値\n",
        "    # network['W1'] = np.random.randn(input_layer_size, hidden_layer_size) / np.sqrt(input_layer_size) * np.sqrt(2)\n",
        "    # network['W2'] = np.random.randn(hidden_layer_size, output_layer_size) / np.sqrt(hidden_layer_size) * np.sqrt(2)\n",
        "\n",
        "    network['b1'] = np.zeros(hidden_layer_size)\n",
        "    network['b2'] = np.zeros(output_layer_size)\n",
        "\n",
        "    return network\n",
        "\n",
        "# 順伝播\n",
        "def forward(network, x):\n",
        "    W1, W2 = network['W1'], network['W2']\n",
        "    b1, b2  = network['b1'], network['b2']\n",
        "        \n",
        "    u1 =  np.dot(x, W1) + b1\n",
        "    z1 = functions.relu(u1)\n",
        "    u2 =  np.dot(z1, W2) + b2\n",
        "    y = functions.softmax(u2)\n",
        " \n",
        "    return z1, y\n",
        "\n",
        "# 誤差逆伝播\n",
        "def backward(x, d, z1, y):\n",
        "    grad = {}\n",
        "    \n",
        "    W1, W2 = network['W1'], network['W2']\n",
        "    b1, b2 = network['b1'], network['b2']    \n",
        "    # 出力層でのデルタ\n",
        "    delta2 = functions.d_softmax_with_loss(d, y)\n",
        "    # b2の勾配\n",
        "    grad['b2'] = np.sum(delta2, axis=0)\n",
        "    # W2の勾配\n",
        "    grad['W2'] = np.dot(z1.T, delta2)\n",
        "    # 1層でのデルタ\n",
        "    delta1 = np.dot(delta2, W2.T) * functions.d_relu(z1)\n",
        "    # b1の勾配\n",
        "    grad['b1'] = np.sum(delta1, axis=0)\n",
        "    # W1の勾配\n",
        "    grad['W1'] = np.dot(x.T, delta1)\n",
        "\n",
        "    return grad\n",
        "\n",
        "# パラメータの初期化\n",
        "network = init_network()\n",
        "\n",
        "\n",
        "accuracies_train = []\n",
        "accuracies_test = []\n",
        "\n",
        "# 正答率\n",
        "def accuracy(x, d):\n",
        "    z1, y = forward(network, x)\n",
        "    y = np.argmax(y, axis=1)\n",
        "    if d.ndim != 1 : d = np.argmax(d, axis=1)\n",
        "    accuracy = np.sum(y == d) / float(x.shape[0])\n",
        "    return accuracy\n",
        "\n",
        "for i in range(iters_num):\n",
        "    # ランダムにバッチを取得    \n",
        "    batch_mask = np.random.choice(train_size, batch_size)\n",
        "    # ミニバッチに対応する教師訓練画像データを取得    \n",
        "    x_batch = x_train[batch_mask]\n",
        "    # ミニバッチに対応する訓練正解ラベルデータを取得する\n",
        "    d_batch = d_train[batch_mask]\n",
        "\n",
        "\n",
        "    \n",
        "    z1, y = forward(network, x_batch)\n",
        "    grad = backward(x_batch, d_batch, z1, y)\n",
        "\n",
        "    if (i+1)%plot_interval==0:\n",
        "        accr_test = accuracy(x_test, d_test)\n",
        "        accuracies_test.append(accr_test)\n",
        "        \n",
        "        accr_train = accuracy(x_batch, d_batch)\n",
        "        accuracies_train.append(accr_train)\n",
        "\n",
        "        print('Generation: ' + str(i+1) + '. 正答率(トレーニング) = ' + str(accr_train))\n",
        "        print('                : ' + str(i+1) + '. 正答率(テスト) = ' + str(accr_test))\n",
        "\n",
        "    # パラメータに勾配適用\n",
        "    for key in ('W1', 'W2', 'b1', 'b2'):\n",
        "        network[key]  -= learning_rate * grad[key]\n",
        "\n",
        "\n",
        "lists = range(0, iters_num, plot_interval)\n",
        "plt.plot(lists, accuracies_train, label=\"training set\")\n",
        "plt.plot(lists, accuracies_test,  label=\"test set\")\n",
        "plt.legend(loc=\"lower right\")\n",
        "plt.title(\"正答率\")\n",
        "# グラフの表示\n",
        "plt.show()"
      ],
      "execution_count": 5,
      "outputs": [
        {
          "output_type": "stream",
          "name": "stdout",
          "text": [
            "データ読み込み完了\n",
            "Generation: 10. 正答率(トレーニング) = 0.11\n",
            "                : 10. 正答率(テスト) = 0.1173\n",
            "Generation: 20. 正答率(トレーニング) = 0.21\n",
            "                : 20. 正答率(テスト) = 0.174\n",
            "Generation: 30. 正答率(トレーニング) = 0.34\n",
            "                : 30. 正答率(テスト) = 0.2821\n",
            "Generation: 40. 正答率(トレーニング) = 0.38\n",
            "                : 40. 正答率(テスト) = 0.3411\n",
            "Generation: 50. 正答率(トレーニング) = 0.51\n",
            "                : 50. 正答率(テスト) = 0.4295\n",
            "Generation: 60. 正答率(トレーニング) = 0.44\n",
            "                : 60. 正答率(テスト) = 0.4636\n",
            "Generation: 70. 正答率(トレーニング) = 0.59\n",
            "                : 70. 正答率(テスト) = 0.5421\n",
            "Generation: 80. 正答率(トレーニング) = 0.55\n",
            "                : 80. 正答率(テスト) = 0.5921\n",
            "Generation: 90. 正答率(トレーニング) = 0.6\n",
            "                : 90. 正答率(テスト) = 0.6278\n",
            "Generation: 100. 正答率(トレーニング) = 0.64\n",
            "                : 100. 正答率(テスト) = 0.6644\n",
            "Generation: 110. 正答率(トレーニング) = 0.65\n",
            "                : 110. 正答率(テスト) = 0.6734\n",
            "Generation: 120. 正答率(トレーニング) = 0.75\n",
            "                : 120. 正答率(テスト) = 0.7558\n",
            "Generation: 130. 正答率(トレーニング) = 0.66\n",
            "                : 130. 正答率(テスト) = 0.7259\n",
            "Generation: 140. 正答率(トレーニング) = 0.84\n",
            "                : 140. 正答率(テスト) = 0.7835\n",
            "Generation: 150. 正答率(トレーニング) = 0.85\n",
            "                : 150. 正答率(テスト) = 0.8038\n",
            "Generation: 160. 正答率(トレーニング) = 0.82\n",
            "                : 160. 正答率(テスト) = 0.8218\n",
            "Generation: 170. 正答率(トレーニング) = 0.83\n",
            "                : 170. 正答率(テスト) = 0.8282\n",
            "Generation: 180. 正答率(トレーニング) = 0.81\n",
            "                : 180. 正答率(テスト) = 0.834\n",
            "Generation: 190. 正答率(トレーニング) = 0.84\n",
            "                : 190. 正答率(テスト) = 0.843\n",
            "Generation: 200. 正答率(トレーニング) = 0.87\n",
            "                : 200. 正答率(テスト) = 0.8543\n",
            "Generation: 210. 正答率(トレーニング) = 0.9\n",
            "                : 210. 正答率(テスト) = 0.8553\n",
            "Generation: 220. 正答率(トレーニング) = 0.84\n",
            "                : 220. 正答率(テスト) = 0.832\n",
            "Generation: 230. 正答率(トレーニング) = 0.86\n",
            "                : 230. 正答率(テスト) = 0.8688\n",
            "Generation: 240. 正答率(トレーニング) = 0.85\n",
            "                : 240. 正答率(テスト) = 0.8721\n",
            "Generation: 250. 正答率(トレーニング) = 0.84\n",
            "                : 250. 正答率(テスト) = 0.871\n",
            "Generation: 260. 正答率(トレーニング) = 0.83\n",
            "                : 260. 正答率(テスト) = 0.8794\n",
            "Generation: 270. 正答率(トレーニング) = 0.81\n",
            "                : 270. 正答率(テスト) = 0.8771\n",
            "Generation: 280. 正答率(トレーニング) = 0.85\n",
            "                : 280. 正答率(テスト) = 0.8742\n",
            "Generation: 290. 正答率(トレーニング) = 0.83\n",
            "                : 290. 正答率(テスト) = 0.8854\n",
            "Generation: 300. 正答率(トレーニング) = 0.84\n",
            "                : 300. 正答率(テスト) = 0.885\n",
            "Generation: 310. 正答率(トレーニング) = 0.9\n",
            "                : 310. 正答率(テスト) = 0.8855\n",
            "Generation: 320. 正答率(トレーニング) = 0.89\n",
            "                : 320. 正答率(テスト) = 0.8852\n",
            "Generation: 330. 正答率(トレーニング) = 0.85\n",
            "                : 330. 正答率(テスト) = 0.8812\n",
            "Generation: 340. 正答率(トレーニング) = 0.91\n",
            "                : 340. 正答率(テスト) = 0.8854\n",
            "Generation: 350. 正答率(トレーニング) = 0.94\n",
            "                : 350. 正答率(テスト) = 0.8922\n",
            "Generation: 360. 正答率(トレーニング) = 0.93\n",
            "                : 360. 正答率(テスト) = 0.8935\n",
            "Generation: 370. 正答率(トレーニング) = 0.87\n",
            "                : 370. 正答率(テスト) = 0.8953\n",
            "Generation: 380. 正答率(トレーニング) = 0.91\n",
            "                : 380. 正答率(テスト) = 0.8965\n",
            "Generation: 390. 正答率(トレーニング) = 0.86\n",
            "                : 390. 正答率(テスト) = 0.8973\n",
            "Generation: 400. 正答率(トレーニング) = 0.9\n",
            "                : 400. 正答率(テスト) = 0.8928\n",
            "Generation: 410. 正答率(トレーニング) = 0.9\n",
            "                : 410. 正答率(テスト) = 0.8969\n",
            "Generation: 420. 正答率(トレーニング) = 0.93\n",
            "                : 420. 正答率(テスト) = 0.8965\n",
            "Generation: 430. 正答率(トレーニング) = 0.87\n",
            "                : 430. 正答率(テスト) = 0.898\n",
            "Generation: 440. 正答率(トレーニング) = 0.91\n",
            "                : 440. 正答率(テスト) = 0.8997\n",
            "Generation: 450. 正答率(トレーニング) = 0.88\n",
            "                : 450. 正答率(テスト) = 0.9018\n",
            "Generation: 460. 正答率(トレーニング) = 0.9\n",
            "                : 460. 正答率(テスト) = 0.8987\n",
            "Generation: 470. 正答率(トレーニング) = 0.89\n",
            "                : 470. 正答率(テスト) = 0.8967\n",
            "Generation: 480. 正答率(トレーニング) = 0.92\n",
            "                : 480. 正答率(テスト) = 0.9035\n",
            "Generation: 490. 正答率(トレーニング) = 0.93\n",
            "                : 490. 正答率(テスト) = 0.9022\n",
            "Generation: 500. 正答率(トレーニング) = 0.9\n",
            "                : 500. 正答率(テスト) = 0.901\n",
            "Generation: 510. 正答率(トレーニング) = 0.89\n",
            "                : 510. 正答率(テスト) = 0.8972\n",
            "Generation: 520. 正答率(トレーニング) = 0.87\n",
            "                : 520. 正答率(テスト) = 0.902\n",
            "Generation: 530. 正答率(トレーニング) = 0.9\n",
            "                : 530. 正答率(テスト) = 0.9006\n",
            "Generation: 540. 正答率(トレーニング) = 0.91\n",
            "                : 540. 正答率(テスト) = 0.9049\n",
            "Generation: 550. 正答率(トレーニング) = 0.92\n",
            "                : 550. 正答率(テスト) = 0.9046\n",
            "Generation: 560. 正答率(トレーニング) = 0.92\n",
            "                : 560. 正答率(テスト) = 0.9031\n",
            "Generation: 570. 正答率(トレーニング) = 0.88\n",
            "                : 570. 正答率(テスト) = 0.9075\n",
            "Generation: 580. 正答率(トレーニング) = 0.95\n",
            "                : 580. 正答率(テスト) = 0.9086\n",
            "Generation: 590. 正答率(トレーニング) = 0.89\n",
            "                : 590. 正答率(テスト) = 0.9073\n",
            "Generation: 600. 正答率(トレーニング) = 0.92\n",
            "                : 600. 正答率(テスト) = 0.9076\n",
            "Generation: 610. 正答率(トレーニング) = 0.88\n",
            "                : 610. 正答率(テスト) = 0.9097\n",
            "Generation: 620. 正答率(トレーニング) = 0.89\n",
            "                : 620. 正答率(テスト) = 0.9092\n",
            "Generation: 630. 正答率(トレーニング) = 0.89\n",
            "                : 630. 正答率(テスト) = 0.9078\n",
            "Generation: 640. 正答率(トレーニング) = 0.89\n",
            "                : 640. 正答率(テスト) = 0.9112\n",
            "Generation: 650. 正答率(トレーニング) = 0.9\n",
            "                : 650. 正答率(テスト) = 0.908\n",
            "Generation: 660. 正答率(トレーニング) = 0.92\n",
            "                : 660. 正答率(テスト) = 0.9132\n",
            "Generation: 670. 正答率(トレーニング) = 0.87\n",
            "                : 670. 正答率(テスト) = 0.9105\n",
            "Generation: 680. 正答率(トレーニング) = 0.9\n",
            "                : 680. 正答率(テスト) = 0.9136\n",
            "Generation: 690. 正答率(トレーニング) = 0.9\n",
            "                : 690. 正答率(テスト) = 0.9111\n",
            "Generation: 700. 正答率(トレーニング) = 0.92\n",
            "                : 700. 正答率(テスト) = 0.9111\n",
            "Generation: 710. 正答率(トレーニング) = 0.9\n",
            "                : 710. 正答率(テスト) = 0.914\n",
            "Generation: 720. 正答率(トレーニング) = 0.92\n",
            "                : 720. 正答率(テスト) = 0.913\n",
            "Generation: 730. 正答率(トレーニング) = 0.89\n",
            "                : 730. 正答率(テスト) = 0.9138\n",
            "Generation: 740. 正答率(トレーニング) = 0.95\n",
            "                : 740. 正答率(テスト) = 0.9138\n",
            "Generation: 750. 正答率(トレーニング) = 0.92\n",
            "                : 750. 正答率(テスト) = 0.9161\n",
            "Generation: 760. 正答率(トレーニング) = 0.93\n",
            "                : 760. 正答率(テスト) = 0.9164\n",
            "Generation: 770. 正答率(トレーニング) = 0.92\n",
            "                : 770. 正答率(テスト) = 0.9146\n",
            "Generation: 780. 正答率(トレーニング) = 0.92\n",
            "                : 780. 正答率(テスト) = 0.9174\n",
            "Generation: 790. 正答率(トレーニング) = 0.88\n",
            "                : 790. 正答率(テスト) = 0.9145\n",
            "Generation: 800. 正答率(トレーニング) = 0.91\n",
            "                : 800. 正答率(テスト) = 0.9139\n",
            "Generation: 810. 正答率(トレーニング) = 0.9\n",
            "                : 810. 正答率(テスト) = 0.9093\n",
            "Generation: 820. 正答率(トレーニング) = 0.84\n",
            "                : 820. 正答率(テスト) = 0.9167\n",
            "Generation: 830. 正答率(トレーニング) = 0.87\n",
            "                : 830. 正答率(テスト) = 0.9125\n",
            "Generation: 840. 正答率(トレーニング) = 0.94\n",
            "                : 840. 正答率(テスト) = 0.9172\n",
            "Generation: 850. 正答率(トレーニング) = 0.93\n",
            "                : 850. 正答率(テスト) = 0.9143\n",
            "Generation: 860. 正答率(トレーニング) = 0.93\n",
            "                : 860. 正答率(テスト) = 0.9158\n",
            "Generation: 870. 正答率(トレーニング) = 0.92\n",
            "                : 870. 正答率(テスト) = 0.9196\n",
            "Generation: 880. 正答率(トレーニング) = 0.83\n",
            "                : 880. 正答率(テスト) = 0.9153\n",
            "Generation: 890. 正答率(トレーニング) = 0.9\n",
            "                : 890. 正答率(テスト) = 0.9156\n",
            "Generation: 900. 正答率(トレーニング) = 0.87\n",
            "                : 900. 正答率(テスト) = 0.9196\n",
            "Generation: 910. 正答率(トレーニング) = 0.95\n",
            "                : 910. 正答率(テスト) = 0.9163\n",
            "Generation: 920. 正答率(トレーニング) = 0.91\n",
            "                : 920. 正答率(テスト) = 0.9173\n",
            "Generation: 930. 正答率(トレーニング) = 0.96\n",
            "                : 930. 正答率(テスト) = 0.9133\n",
            "Generation: 940. 正答率(トレーニング) = 0.89\n",
            "                : 940. 正答率(テスト) = 0.9181\n",
            "Generation: 950. 正答率(トレーニング) = 0.87\n",
            "                : 950. 正答率(テスト) = 0.9213\n",
            "Generation: 960. 正答率(トレーニング) = 0.89\n",
            "                : 960. 正答率(テスト) = 0.922\n",
            "Generation: 970. 正答率(トレーニング) = 0.91\n",
            "                : 970. 正答率(テスト) = 0.9212\n",
            "Generation: 980. 正答率(トレーニング) = 0.88\n",
            "                : 980. 正答率(テスト) = 0.9182\n",
            "Generation: 990. 正答率(トレーニング) = 0.89\n",
            "                : 990. 正答率(テスト) = 0.9188\n",
            "Generation: 1000. 正答率(トレーニング) = 0.89\n",
            "                : 1000. 正答率(テスト) = 0.9176\n"
          ]
        },
        {
          "output_type": "stream",
          "name": "stderr",
          "text": [
            "/usr/local/lib/python3.7/dist-packages/matplotlib/backends/backend_agg.py:214: RuntimeWarning: Glyph 27491 missing from current font.\n",
            "  font.set_text(s, 0.0, flags=flags)\n",
            "/usr/local/lib/python3.7/dist-packages/matplotlib/backends/backend_agg.py:214: RuntimeWarning: Glyph 31572 missing from current font.\n",
            "  font.set_text(s, 0.0, flags=flags)\n",
            "/usr/local/lib/python3.7/dist-packages/matplotlib/backends/backend_agg.py:214: RuntimeWarning: Glyph 29575 missing from current font.\n",
            "  font.set_text(s, 0.0, flags=flags)\n",
            "/usr/local/lib/python3.7/dist-packages/matplotlib/backends/backend_agg.py:183: RuntimeWarning: Glyph 27491 missing from current font.\n",
            "  font.set_text(s, 0, flags=flags)\n",
            "/usr/local/lib/python3.7/dist-packages/matplotlib/backends/backend_agg.py:183: RuntimeWarning: Glyph 31572 missing from current font.\n",
            "  font.set_text(s, 0, flags=flags)\n",
            "/usr/local/lib/python3.7/dist-packages/matplotlib/backends/backend_agg.py:183: RuntimeWarning: Glyph 29575 missing from current font.\n",
            "  font.set_text(s, 0, flags=flags)\n"
          ]
        },
        {
          "output_type": "display_data",
          "data": {
            "image/png": "[encoded data removed]",
            "text/plain": [
              "<Figure size 432x288 with 1 Axes>"
            ]
          },
          "metadata": {
            "needs_background": "light"
          }
        }
      ]
    },
    {
      "cell_type": "code",
      "metadata": {
        "id": "1Yqykojyint3"
      },
      "source": [
        ""
      ],
      "execution_count": null,
      "outputs": []
    }
  ]
}