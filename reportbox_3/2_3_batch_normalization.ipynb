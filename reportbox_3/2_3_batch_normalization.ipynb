{
  "nbformat": 4,
  "nbformat_minor": 0,
  "metadata": {
    "kernelspec": {
      "name": "python3",
      "display_name": "Python 3"
    },
    "language_info": {
      "codemirror_mode": {
        "name": "ipython",
        "version": 3
      },
      "file_extension": ".py",
      "mimetype": "text/x-python",
      "name": "python",
      "nbconvert_exporter": "python",
      "pygments_lexer": "ipython3",
      "version": "3.6.3"
    },
    "colab": {
      "name": "2_3_batch_normalization.ipynb",
      "provenance": [],
      "collapsed_sections": [],
      "toc_visible": true,
      "include_colab_link": true
    }
  },
  "cells": [
    {
      "cell_type": "markdown",
      "metadata": {
        "id": "view-in-github",
        "colab_type": "text"
      },
      "source": [
        "<a href=\"https://colab.research.google.com/github/U-ohata/Rabbit_Report_2/blob/Rabbit_Report_Colaboratory/reportbox_3/2_3_batch_normalization.ipynb\" target=\"_parent\"><img src=\"https://colab.research.google.com/assets/colab-badge.svg\" alt=\"Open In Colab\"/></a>"
      ]
    },
    {
      "cell_type": "markdown",
      "metadata": {
        "id": "8cNl2QA_Rnv5"
      },
      "source": [
        "# 準備"
      ]
    },
    {
      "cell_type": "markdown",
      "metadata": {
        "id": "YkwjN1jNVAYy"
      },
      "source": [
        "## Googleドライブのマウント"
      ]
    },
    {
      "cell_type": "code",
      "metadata": {
        "id": "pvFXpiH3EVC1",
        "colab": {
          "base_uri": "https://localhost:8080/"
        },
        "outputId": "48f4dd97-5e24-4178-f434-fd0d28019245"
      },
      "source": [
        "from google.colab import drive\n",
        "drive.mount('/content/drive')"
      ],
      "execution_count": 1,
      "outputs": [
        {
          "output_type": "stream",
          "name": "stdout",
          "text": [
            "Mounted at /content/drive\n"
          ]
        }
      ]
    },
    {
      "cell_type": "markdown",
      "metadata": {
        "id": "3Ub7RYdeY6pK"
      },
      "source": [
        "## sys.pathの設定"
      ]
    },
    {
      "cell_type": "markdown",
      "metadata": {
        "id": "oql7L19rEsWi"
      },
      "source": [
        "以下では，Googleドライブのマイドライブ直下にDNN_codeフォルダを置くことを仮定しています．必要に応じて，パスを変更してください．"
      ]
    },
    {
      "cell_type": "code",
      "metadata": {
        "id": "7Ic2JzkvFX59"
      },
      "source": [
        "import sys\n",
        "#sys.path.append('/content/drive/My Drive/DNN_code')\n",
        "sys.path.append('/content/drive/My Drive/Pythonライブラリ基礎講座/DNN_code_colab_lesson_1_2')\n",
        "#sys.path.append('/content/drive/My Drive/DNN_code/lesson_2')\n",
        "sys.path.append('/content/drive/My Drive/Pythonライブラリ基礎講座/DNN_code_colab_lesson_1_2/lesson_2')"
      ],
      "execution_count": 2,
      "outputs": []
    },
    {
      "cell_type": "markdown",
      "metadata": {
        "id": "DmeANLBkk5jy"
      },
      "source": [
        "# batch normalization"
      ]
    },
    {
      "cell_type": "code",
      "metadata": {
        "id": "F5NVcAVZk5jz"
      },
      "source": [
        "import numpy as np\n",
        "from collections import OrderedDict\n",
        "from common import layers\n",
        "from data.mnist import load_mnist\n",
        "import matplotlib.pyplot as plt\n",
        "from multi_layer_net import MultiLayerNet\n",
        "from common import optimizer\n",
        "\n",
        "# バッチ正則化 layer\n",
        "class BatchNormalization:\n",
        "    '''\n",
        "    gamma: スケール係数\n",
        "    beta: オフセット\n",
        "    momentum: 慣性\n",
        "    running_mean: テスト時に使用する平均\n",
        "    running_var: テスト時に使用する分散\n",
        "    '''\n",
        "    def __init__(self, gamma, beta, momentum=0.9, running_mean=None, running_var=None):\n",
        "        self.gamma = gamma\n",
        "        self.beta = beta\n",
        "        self.momentum = momentum\n",
        "        self.input_shape = None\n",
        "\n",
        "        self.running_mean = running_mean\n",
        "        self.running_var = running_var  \n",
        "        \n",
        "        # backward時に使用する中間データ\n",
        "        self.batch_size = None\n",
        "        self.xc = None\n",
        "        self.std = None\n",
        "        self.dgamma = None\n",
        "        self.dbeta = None\n",
        "\n",
        "    def forward(self, x, train_flg=True):\n",
        "        if self.running_mean is None:\n",
        "            N, D = x.shape\n",
        "            self.running_mean = np.zeros(D)\n",
        "            self.running_var = np.zeros(D)\n",
        "                        \n",
        "        if train_flg:\n",
        "            mu = x.mean(axis=0) # 平均\n",
        "            xc = x - mu # xをセンタリング\n",
        "            var = np.mean(xc**2, axis=0) # 分散\n",
        "            std = np.sqrt(var + 10e-7) # スケーリング\n",
        "            xn = xc / std\n",
        "            \n",
        "            self.batch_size = x.shape[0]\n",
        "            self.xc = xc\n",
        "            self.xn = xn\n",
        "            self.std = std\n",
        "            self.running_mean = self.momentum * self.running_mean + (1-self.momentum) * mu # 平均値の加重平均\n",
        "            self.running_var = self.momentum * self.running_var + (1-self.momentum) * var #分散値の加重平均\n",
        "        else:\n",
        "            xc = x - self.running_mean\n",
        "            xn = xc / ((np.sqrt(self.running_var + 10e-7)))\n",
        "            \n",
        "        out = self.gamma * xn + self.beta \n",
        "        \n",
        "        return out\n",
        "\n",
        "    def backward(self, dout):\n",
        "        dbeta = dout.sum(axis=0)\n",
        "        dgamma = np.sum(self.xn * dout, axis=0)\n",
        "        dxn = self.gamma * dout\n",
        "        dxc = dxn / self.std\n",
        "        dstd = -np.sum((dxn * self.xc) / (self.std * self.std), axis=0)\n",
        "        dvar = 0.5 * dstd / self.std\n",
        "        dxc += (2.0 / self.batch_size) * self.xc * dvar\n",
        "        dmu = np.sum(dxc, axis=0)\n",
        "        dx = dxc - dmu / self.batch_size\n",
        "        \n",
        "        self.dgamma = dgamma\n",
        "        self.dbeta = dbeta\n",
        "\n",
        "        return dx    \n"
      ],
      "execution_count": 3,
      "outputs": []
    },
    {
      "cell_type": "code",
      "metadata": {
        "id": "0PafCcEZk5j2",
        "colab": {
          "base_uri": "https://localhost:8080/",
          "height": 1000
        },
        "outputId": "1da1d3a1-7709-4533-eedf-6769b6cadeb0"
      },
      "source": [
        "(x_train, d_train), (x_test, d_test) = load_mnist(normalize=True)\n",
        "\n",
        "print(\"データ読み込み完了\")\n",
        "\n",
        "\n",
        "# batch_normalizationの設定 =======================\n",
        "use_batchnorm = True\n",
        "# use_batchnorm = False\n",
        "# ====================================================\n",
        "\n",
        "network = MultiLayerNet(input_size=784, hidden_size_list=[40, 20], output_size=10,\n",
        "                        activation='relu', weight_init_std='he', use_batchnorm=use_batchnorm)\n",
        "\n",
        "iters_num = 1000\n",
        "train_size = x_train.shape[0]\n",
        "batch_size = 100\n",
        "learning_rate=0.01\n",
        "\n",
        "train_loss_list = []\n",
        "accuracies_train = []\n",
        "accuracies_test = []\n",
        "\n",
        "plot_interval=10\n",
        "\n",
        "\n",
        "for i in range(iters_num):\n",
        "    batch_mask = np.random.choice(train_size, batch_size)\n",
        "    x_batch = x_train[batch_mask]\n",
        "    d_batch = d_train[batch_mask]\n",
        "\n",
        "    grad = network.gradient(x_batch, d_batch)\n",
        "    for key in ('W1', 'W2', 'W3', 'b1', 'b2', 'b3'):\n",
        "        network.params[key] -= learning_rate * grad[key]\n",
        "\n",
        "        loss = network.loss(x_batch, d_batch)\n",
        "        train_loss_list.append(loss)        \n",
        "        \n",
        "    if (i + 1) % plot_interval == 0:\n",
        "        accr_test = network.accuracy(x_test, d_test)\n",
        "        accuracies_test.append(accr_test)        \n",
        "        accr_train = network.accuracy(x_batch, d_batch)\n",
        "        accuracies_train.append(accr_train)\n",
        "        \n",
        "        print('Generation: ' + str(i+1) + '. 正答率(トレーニング) = ' + str(accr_train))\n",
        "        print('                : ' + str(i+1) + '. 正答率(テスト) = ' + str(accr_test))\n",
        "                \n",
        "\n",
        "lists = range(0, iters_num, plot_interval)\n",
        "plt.plot(lists, accuracies_train, label=\"training set\")\n",
        "plt.plot(lists, accuracies_test,  label=\"test set\")\n",
        "plt.legend(loc=\"lower right\")\n",
        "plt.title(\"accuracy\")\n",
        "plt.xlabel(\"count\")\n",
        "plt.ylabel(\"accuracy\")\n",
        "plt.ylim(0, 1.0)\n",
        "# グラフの表示\n",
        "plt.show()"
      ],
      "execution_count": 6,
      "outputs": [
        {
          "output_type": "stream",
          "name": "stdout",
          "text": [
            "データ読み込み完了\n",
            "Generation: 10. 正答率(トレーニング) = 0.12\n",
            "                : 10. 正答率(テスト) = 0.1552\n",
            "Generation: 20. 正答率(トレーニング) = 0.21\n",
            "                : 20. 正答率(テスト) = 0.2802\n",
            "Generation: 30. 正答率(トレーニング) = 0.36\n",
            "                : 30. 正答率(テスト) = 0.4003\n",
            "Generation: 40. 正答率(トレーニング) = 0.49\n",
            "                : 40. 正答率(テスト) = 0.4642\n",
            "Generation: 50. 正答率(トレーニング) = 0.55\n",
            "                : 50. 正答率(テスト) = 0.5091\n",
            "Generation: 60. 正答率(トレーニング) = 0.52\n",
            "                : 60. 正答率(テスト) = 0.5459\n",
            "Generation: 70. 正答率(トレーニング) = 0.6\n",
            "                : 70. 正答率(テスト) = 0.5723\n",
            "Generation: 80. 正答率(トレーニング) = 0.66\n",
            "                : 80. 正答率(テスト) = 0.6058\n",
            "Generation: 90. 正答率(トレーニング) = 0.68\n",
            "                : 90. 正答率(テスト) = 0.62\n",
            "Generation: 100. 正答率(トレーニング) = 0.7\n",
            "                : 100. 正答率(テスト) = 0.6391\n",
            "Generation: 110. 正答率(トレーニング) = 0.7\n",
            "                : 110. 正答率(テスト) = 0.6536\n",
            "Generation: 120. 正答率(トレーニング) = 0.65\n",
            "                : 120. 正答率(テスト) = 0.6664\n",
            "Generation: 130. 正答率(トレーニング) = 0.71\n",
            "                : 130. 正答率(テスト) = 0.6807\n",
            "Generation: 140. 正答率(トレーニング) = 0.7\n",
            "                : 140. 正答率(テスト) = 0.6933\n",
            "Generation: 150. 正答率(トレーニング) = 0.58\n",
            "                : 150. 正答率(テスト) = 0.6998\n",
            "Generation: 160. 正答率(トレーニング) = 0.8\n",
            "                : 160. 正答率(テスト) = 0.7127\n",
            "Generation: 170. 正答率(トレーニング) = 0.77\n",
            "                : 170. 正答率(テスト) = 0.7221\n",
            "Generation: 180. 正答率(トレーニング) = 0.73\n",
            "                : 180. 正答率(テスト) = 0.7273\n",
            "Generation: 190. 正答率(トレーニング) = 0.7\n",
            "                : 190. 正答率(テスト) = 0.733\n",
            "Generation: 200. 正答率(トレーニング) = 0.8\n",
            "                : 200. 正答率(テスト) = 0.7417\n",
            "Generation: 210. 正答率(トレーニング) = 0.77\n",
            "                : 210. 正答率(テスト) = 0.7477\n",
            "Generation: 220. 正答率(トレーニング) = 0.77\n",
            "                : 220. 正答率(テスト) = 0.7513\n",
            "Generation: 230. 正答率(トレーニング) = 0.68\n",
            "                : 230. 正答率(テスト) = 0.7598\n",
            "Generation: 240. 正答率(トレーニング) = 0.8\n",
            "                : 240. 正答率(テスト) = 0.7654\n",
            "Generation: 250. 正答率(トレーニング) = 0.73\n",
            "                : 250. 正答率(テスト) = 0.7737\n",
            "Generation: 260. 正答率(トレーニング) = 0.83\n",
            "                : 260. 正答率(テスト) = 0.7748\n",
            "Generation: 270. 正答率(トレーニング) = 0.76\n",
            "                : 270. 正答率(テスト) = 0.7797\n",
            "Generation: 280. 正答率(トレーニング) = 0.84\n",
            "                : 280. 正答率(テスト) = 0.784\n",
            "Generation: 290. 正答率(トレーニング) = 0.79\n",
            "                : 290. 正答率(テスト) = 0.7879\n",
            "Generation: 300. 正答率(トレーニング) = 0.84\n",
            "                : 300. 正答率(テスト) = 0.7909\n",
            "Generation: 310. 正答率(トレーニング) = 0.8\n",
            "                : 310. 正答率(テスト) = 0.7959\n",
            "Generation: 320. 正答率(トレーニング) = 0.77\n",
            "                : 320. 正答率(テスト) = 0.8012\n",
            "Generation: 330. 正答率(トレーニング) = 0.76\n",
            "                : 330. 正答率(テスト) = 0.8038\n",
            "Generation: 340. 正答率(トレーニング) = 0.82\n",
            "                : 340. 正答率(テスト) = 0.8058\n",
            "Generation: 350. 正答率(トレーニング) = 0.78\n",
            "                : 350. 正答率(テスト) = 0.8114\n",
            "Generation: 360. 正答率(トレーニング) = 0.84\n",
            "                : 360. 正答率(テスト) = 0.8155\n",
            "Generation: 370. 正答率(トレーニング) = 0.78\n",
            "                : 370. 正答率(テスト) = 0.8191\n",
            "Generation: 380. 正答率(トレーニング) = 0.79\n",
            "                : 380. 正答率(テスト) = 0.8239\n",
            "Generation: 390. 正答率(トレーニング) = 0.78\n",
            "                : 390. 正答率(テスト) = 0.8241\n",
            "Generation: 400. 正答率(トレーニング) = 0.83\n",
            "                : 400. 正答率(テスト) = 0.8261\n",
            "Generation: 410. 正答率(トレーニング) = 0.83\n",
            "                : 410. 正答率(テスト) = 0.8279\n",
            "Generation: 420. 正答率(トレーニング) = 0.86\n",
            "                : 420. 正答率(テスト) = 0.8266\n",
            "Generation: 430. 正答率(トレーニング) = 0.85\n",
            "                : 430. 正答率(テスト) = 0.8283\n",
            "Generation: 440. 正答率(トレーニング) = 0.76\n",
            "                : 440. 正答率(テスト) = 0.8353\n",
            "Generation: 450. 正答率(トレーニング) = 0.86\n",
            "                : 450. 正答率(テスト) = 0.8395\n",
            "Generation: 460. 正答率(トレーニング) = 0.82\n",
            "                : 460. 正答率(テスト) = 0.8379\n",
            "Generation: 470. 正答率(トレーニング) = 0.83\n",
            "                : 470. 正答率(テスト) = 0.8411\n",
            "Generation: 480. 正答率(トレーニング) = 0.88\n",
            "                : 480. 正答率(テスト) = 0.8446\n",
            "Generation: 490. 正答率(トレーニング) = 0.89\n",
            "                : 490. 正答率(テスト) = 0.8463\n",
            "Generation: 500. 正答率(トレーニング) = 0.83\n",
            "                : 500. 正答率(テスト) = 0.8478\n",
            "Generation: 510. 正答率(トレーニング) = 0.89\n",
            "                : 510. 正答率(テスト) = 0.8509\n",
            "Generation: 520. 正答率(トレーニング) = 0.88\n",
            "                : 520. 正答率(テスト) = 0.8544\n",
            "Generation: 530. 正答率(トレーニング) = 0.84\n",
            "                : 530. 正答率(テスト) = 0.8549\n",
            "Generation: 540. 正答率(トレーニング) = 0.85\n",
            "                : 540. 正答率(テスト) = 0.8558\n",
            "Generation: 550. 正答率(トレーニング) = 0.85\n",
            "                : 550. 正答率(テスト) = 0.8562\n",
            "Generation: 560. 正答率(トレーニング) = 0.81\n",
            "                : 560. 正答率(テスト) = 0.8568\n",
            "Generation: 570. 正答率(トレーニング) = 0.89\n",
            "                : 570. 正答率(テスト) = 0.8582\n",
            "Generation: 580. 正答率(トレーニング) = 0.86\n",
            "                : 580. 正答率(テスト) = 0.8593\n",
            "Generation: 590. 正答率(トレーニング) = 0.87\n",
            "                : 590. 正答率(テスト) = 0.8589\n",
            "Generation: 600. 正答率(トレーニング) = 0.87\n",
            "                : 600. 正答率(テスト) = 0.8622\n",
            "Generation: 610. 正答率(トレーニング) = 0.87\n",
            "                : 610. 正答率(テスト) = 0.8624\n",
            "Generation: 620. 正答率(トレーニング) = 0.9\n",
            "                : 620. 正答率(テスト) = 0.8669\n",
            "Generation: 630. 正答率(トレーニング) = 0.85\n",
            "                : 630. 正答率(テスト) = 0.8652\n",
            "Generation: 640. 正答率(トレーニング) = 0.82\n",
            "                : 640. 正答率(テスト) = 0.8663\n",
            "Generation: 650. 正答率(トレーニング) = 0.87\n",
            "                : 650. 正答率(テスト) = 0.8675\n",
            "Generation: 660. 正答率(トレーニング) = 0.89\n",
            "                : 660. 正答率(テスト) = 0.8681\n",
            "Generation: 670. 正答率(トレーニング) = 0.88\n",
            "                : 670. 正答率(テスト) = 0.8682\n",
            "Generation: 680. 正答率(トレーニング) = 0.88\n",
            "                : 680. 正答率(テスト) = 0.8703\n",
            "Generation: 690. 正答率(トレーニング) = 0.82\n",
            "                : 690. 正答率(テスト) = 0.8717\n",
            "Generation: 700. 正答率(トレーニング) = 0.85\n",
            "                : 700. 正答率(テスト) = 0.8746\n",
            "Generation: 710. 正答率(トレーニング) = 0.84\n",
            "                : 710. 正答率(テスト) = 0.8765\n",
            "Generation: 720. 正答率(トレーニング) = 0.86\n",
            "                : 720. 正答率(テスト) = 0.8763\n",
            "Generation: 730. 正答率(トレーニング) = 0.79\n",
            "                : 730. 正答率(テスト) = 0.8781\n",
            "Generation: 740. 正答率(トレーニング) = 0.94\n",
            "                : 740. 正答率(テスト) = 0.8793\n",
            "Generation: 750. 正答率(トレーニング) = 0.89\n",
            "                : 750. 正答率(テスト) = 0.8786\n",
            "Generation: 760. 正答率(トレーニング) = 0.86\n",
            "                : 760. 正答率(テスト) = 0.8799\n",
            "Generation: 770. 正答率(トレーニング) = 0.87\n",
            "                : 770. 正答率(テスト) = 0.8827\n",
            "Generation: 780. 正答率(トレーニング) = 0.86\n",
            "                : 780. 正答率(テスト) = 0.8821\n",
            "Generation: 790. 正答率(トレーニング) = 0.87\n",
            "                : 790. 正答率(テスト) = 0.884\n",
            "Generation: 800. 正答率(トレーニング) = 0.85\n",
            "                : 800. 正答率(テスト) = 0.8826\n",
            "Generation: 810. 正答率(トレーニング) = 0.89\n",
            "                : 810. 正答率(テスト) = 0.8849\n",
            "Generation: 820. 正答率(トレーニング) = 0.88\n",
            "                : 820. 正答率(テスト) = 0.8833\n",
            "Generation: 830. 正答率(トレーニング) = 0.85\n",
            "                : 830. 正答率(テスト) = 0.8838\n",
            "Generation: 840. 正答率(トレーニング) = 0.91\n",
            "                : 840. 正答率(テスト) = 0.8843\n",
            "Generation: 850. 正答率(トレーニング) = 0.86\n",
            "                : 850. 正答率(テスト) = 0.8867\n",
            "Generation: 860. 正答率(トレーニング) = 0.87\n",
            "                : 860. 正答率(テスト) = 0.8867\n",
            "Generation: 870. 正答率(トレーニング) = 0.88\n",
            "                : 870. 正答率(テスト) = 0.8857\n",
            "Generation: 880. 正答率(トレーニング) = 0.91\n",
            "                : 880. 正答率(テスト) = 0.888\n",
            "Generation: 890. 正答率(トレーニング) = 0.86\n",
            "                : 890. 正答率(テスト) = 0.8884\n",
            "Generation: 900. 正答率(トレーニング) = 0.88\n",
            "                : 900. 正答率(テスト) = 0.8884\n",
            "Generation: 910. 正答率(トレーニング) = 0.85\n",
            "                : 910. 正答率(テスト) = 0.8897\n",
            "Generation: 920. 正答率(トレーニング) = 0.88\n",
            "                : 920. 正答率(テスト) = 0.8903\n",
            "Generation: 930. 正答率(トレーニング) = 0.89\n",
            "                : 930. 正答率(テスト) = 0.8909\n",
            "Generation: 940. 正答率(トレーニング) = 0.82\n",
            "                : 940. 正答率(テスト) = 0.8911\n",
            "Generation: 950. 正答率(トレーニング) = 0.92\n",
            "                : 950. 正答率(テスト) = 0.8909\n",
            "Generation: 960. 正答率(トレーニング) = 0.88\n",
            "                : 960. 正答率(テスト) = 0.8929\n",
            "Generation: 970. 正答率(トレーニング) = 0.85\n",
            "                : 970. 正答率(テスト) = 0.8946\n",
            "Generation: 980. 正答率(トレーニング) = 0.9\n",
            "                : 980. 正答率(テスト) = 0.896\n",
            "Generation: 990. 正答率(トレーニング) = 0.9\n",
            "                : 990. 正答率(テスト) = 0.8956\n",
            "Generation: 1000. 正答率(トレーニング) = 0.88\n",
            "                : 1000. 正答率(テスト) = 0.8943\n"
          ]
        },
        {
          "output_type": "display_data",
          "data": {
            "image/png": "[encoded data removed]",
            "text/plain": [
              "<Figure size 432x288 with 1 Axes>"
            ]
          },
          "metadata": {
            "needs_background": "light"
          }
        }
      ]
    },
    {
      "cell_type": "markdown",
      "metadata": {
        "id": "6hJDgvXhk5j6"
      },
      "source": [
        "----------------------------------------------------------------------------------------------------------------------------------------------------------------------------\n",
        "## [try] 活性化関数や重みの初期値を変えてみよう\n",
        "----------------------------------------------------------------------------------------------------------------------------------------------------------------------------"
      ]
    },
    {
      "cell_type": "markdown",
      "source": [
        "活性化関数をreluに、重み初期値をHeに変更"
      ],
      "metadata": {
        "id": "41EsmkkO4W6K"
      }
    }
  ]
}