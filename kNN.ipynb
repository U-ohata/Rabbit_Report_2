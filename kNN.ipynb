{
  "nbformat": 4,
  "nbformat_minor": 0,
  "metadata": {
    "colab": {
      "name": "kNN.ipynb",
      "provenance": [],
      "authorship_tag": "ABX9TyNBthif6n2c0Z/w7jtV4eBg",
      "include_colab_link": true
    },
    "kernelspec": {
      "name": "python3",
      "display_name": "Python 3"
    },
    "language_info": {
      "name": "python"
    }
  },
  "cells": [
    {
      "cell_type": "markdown",
      "metadata": {
        "id": "view-in-github",
        "colab_type": "text"
      },
      "source": [
        "<a href=\"https://colab.research.google.com/github/U-ohata/Rabbit_Report_2/blob/Rabbit_Report_Colaboratory/kNN.ipynb\" target=\"_parent\"><img src=\"https://colab.research.google.com/assets/colab-badge.svg\" alt=\"Open In Colab\"/></a>"
      ]
    },
    {
      "cell_type": "markdown",
      "source": [
        "k近傍法"
      ],
      "metadata": {
        "id": "KMXxv88d1zYg"
      }
    },
    {
      "cell_type": "code",
      "execution_count": 38,
      "metadata": {
        "id": "MPCTL9vM1yRg"
      },
      "outputs": [],
      "source": [
        "#numpyと、乳がんのデータセット読み込み\n",
        "import numpy as np\n",
        "from sklearn.datasets import load_breast_cancer\n",
        "from pandas import DataFrame\n",
        "import pandas as pd\n",
        "#canser変数にデータ読み込み\n",
        "canser = load_breast_cancer()\n",
        "#canserデータをデータフレームに変換\n",
        "df = DataFrame(data=canser.data, columns = canser.feature_names)"
      ]
    },
    {
      "cell_type": "code",
      "source": [
        "#kNNモデルインポート\n",
        "from sklearn.neighbors import KNeighborsClassifier\n",
        "model=KNeighborsClassifier(n_neighbors=1)"
      ],
      "metadata": {
        "id": "qvoVjd4HQ6mp"
      },
      "execution_count": 50,
      "outputs": []
    },
    {
      "cell_type": "code",
      "source": [
        "#描画ファイルインポート\n",
        "import matplotlib.pyplot as plot"
      ],
      "metadata": {
        "id": "ik2WGgi0RtKc"
      },
      "execution_count": 10,
      "outputs": []
    },
    {
      "cell_type": "code",
      "source": [
        "#データフレームに良性か悪性かを追加\n",
        "df['TARGET']=np.array(canser.target)"
      ],
      "metadata": {
        "id": "kc1lJH0nTYIL"
      },
      "execution_count": 11,
      "outputs": []
    },
    {
      "cell_type": "code",
      "source": [
        "#項目名表示\n",
        "print(canser['feature_names'])"
      ],
      "metadata": {
        "colab": {
          "base_uri": "https://localhost:8080/"
        },
        "id": "987XEGRoXE54",
        "outputId": "94cda8f2-3b50-43da-a1bb-92e08b0a13d9"
      },
      "execution_count": 23,
      "outputs": [
        {
          "output_type": "stream",
          "name": "stdout",
          "text": [
            "['mean radius' 'mean texture' 'mean perimeter' 'mean area'\n",
            " 'mean smoothness' 'mean compactness' 'mean concavity'\n",
            " 'mean concave points' 'mean symmetry' 'mean fractal dimension'\n",
            " 'radius error' 'texture error' 'perimeter error' 'area error'\n",
            " 'smoothness error' 'compactness error' 'concavity error'\n",
            " 'concave points error' 'symmetry error' 'fractal dimension error'\n",
            " 'worst radius' 'worst texture' 'worst perimeter' 'worst area'\n",
            " 'worst smoothness' 'worst compactness' 'worst concavity'\n",
            " 'worst concave points' 'worst symmetry' 'worst fractal dimension']\n"
          ]
        }
      ]
    },
    {
      "cell_type": "code",
      "source": [
        "#mean radius列のみxに抽出\n",
        "x = df.loc[:, 'mean radius'].values\n",
        "#mean compactnessのみyに抽出\n",
        "y = df.loc[:, 'mean compactness'].values\n",
        "#TARGETのみtagに抽出\n",
        "tag = df.loc[:, ['TARGET']].values"
      ],
      "metadata": {
        "id": "kX4YuBezRIja"
      },
      "execution_count": 30,
      "outputs": []
    },
    {
      "cell_type": "code",
      "source": [
        "#ターゲットの値ごとにデータを分ける\n",
        "x_0 = []\n",
        "x_1 = []\n",
        "y_0 = []\n",
        "y_1 = []\n",
        "for i in range(len(x)):\n",
        "  if tag[i] == 0:\n",
        "    x_0.append(x[i])\n",
        "    y_0.append(y[i])\n",
        "  else:\n",
        "    x_1.append(x[i])\n",
        "    y_1.append(y[i])\n",
        "\n",
        "#点で描画\n",
        "plot.plot(x_0,y_0,'o')\n",
        "plot.plot(x_1,y_1,'^')\n",
        "#plot.plot(x,y,'^')"
      ],
      "metadata": {
        "colab": {
          "base_uri": "https://localhost:8080/",
          "height": 282
        },
        "id": "CJ2IsrSmVfWk",
        "outputId": "4a5047c7-5c1c-4416-acc4-1a17f4ff4ab2"
      },
      "execution_count": 51,
      "outputs": [
        {
          "output_type": "execute_result",
          "data": {
            "text/plain": [
              "[<matplotlib.lines.Line2D at 0x7f46ec481050>]"
            ]
          },
          "metadata": {},
          "execution_count": 51
        },
        {
          "output_type": "display_data",
          "data": {
            "image/png": "[encoded data removed]",
            "text/plain": [
              "<Figure size 432x288 with 1 Axes>"
            ]
          },
          "metadata": {
            "needs_background": "light"
          }
        }
      ]
    },
    {
      "cell_type": "code",
      "source": [
        "#2次元データ作成\n",
        "list = np.stack([x,y],1)"
      ],
      "metadata": {
        "id": "2P2idxV4RcG5"
      },
      "execution_count": 32,
      "outputs": []
    },
    {
      "cell_type": "code",
      "source": [
        "#モデル学習\n",
        "model.fit(list, tag)"
      ],
      "metadata": {
        "colab": {
          "base_uri": "https://localhost:8080/"
        },
        "id": "D9nYfVjQXuDk",
        "outputId": "985b1adc-ef47-49bf-91f2-20e055a3c01c"
      },
      "execution_count": 52,
      "outputs": [
        {
          "output_type": "stream",
          "name": "stderr",
          "text": [
            "/usr/local/lib/python3.7/dist-packages/sklearn/neighbors/_classification.py:198: DataConversionWarning: A column-vector y was passed when a 1d array was expected. Please change the shape of y to (n_samples,), for example using ravel().\n",
            "  return self._fit(X, y)\n"
          ]
        },
        {
          "output_type": "execute_result",
          "data": {
            "text/plain": [
              "KNeighborsClassifier(n_neighbors=1)"
            ]
          },
          "metadata": {},
          "execution_count": 52
        }
      ]
    },
    {
      "cell_type": "code",
      "source": [
        "#グリッド作成\n",
        "grid_line_x = np.arange(5, 30, 0.1)\n",
        "grid_line_y = np.arange(0, 0.4, 0.01)\n",
        "grid_x, grid_y = np.meshgrid(grid_line_x, grid_line_y)\n",
        "\n",
        "grid_z = model.predict(np.array([X.ravel(), Y.ravel()]).T)\n",
        "grid_z = grid_z.reshape(grid_x.shape)\n",
        "\n",
        "# データプロットする。\n",
        "plot.contourf(grid_x, grid_y, grid_z, cmap='coolwarm')\n",
        "\n",
        "#点で描画\n",
        "plot.plot(x_0,y_0,'o')\n",
        "plot.plot(x_1,y_1,'^')"
      ],
      "metadata": {
        "colab": {
          "base_uri": "https://localhost:8080/",
          "height": 282
        },
        "id": "nHjF5NpsX_MF",
        "outputId": "d29df2c9-56ca-4e40-e879-86ab54a7e95d"
      },
      "execution_count": 54,
      "outputs": [
        {
          "output_type": "execute_result",
          "data": {
            "text/plain": [
              "[<matplotlib.lines.Line2D at 0x7f46eb897090>]"
            ]
          },
          "metadata": {},
          "execution_count": 54
        },
        {
          "output_type": "display_data",
          "data": {
            "image/png": "[encoded data removed]",
            "text/plain": [
              "<Figure size 432x288 with 1 Axes>"
            ]
          },
          "metadata": {
            "needs_background": "light"
          }
        }
      ]
    }
  ]
}